{
 "cells": [
  {
   "cell_type": "markdown",
   "id": "7196054f",
   "metadata": {},
   "source": [
    "# Working with APIs"
   ]
  },
  {
   "cell_type": "markdown",
   "id": "0547b71e",
   "metadata": {},
   "source": [
    "API stands for Application programming interface<br>\n",
    "APIs are a way for applications to talk to eachother<br>\n",
    "In python we use the requests package to handle the connection<br>\n",
    "<small><strong>Note: It is requests with an s not request(this is a different package)</strong></small><br>\n",
    "Most API's communicate with data in the form of JSON<br>\n",
    "JSON stands for JavaScript Object Notation"
   ]
  },
  {
   "cell_type": "code",
   "execution_count": 6,
   "id": "4db9d154",
   "metadata": {},
   "outputs": [],
   "source": [
    "#import the packages we need:\n",
    "import requests as r"
   ]
  },
  {
   "cell_type": "markdown",
   "id": "e8c2ce51",
   "metadata": {},
   "source": [
    "We will be connecting to the Ergast F1 Racer API today:\n",
    "http://ergast.com/mrd/\n",
    "\n",
    "to view JSON data nicely in the Chrome browser install the extension JSONview"
   ]
  },
  {
   "cell_type": "code",
   "execution_count": 3,
   "id": "52c440c6",
   "metadata": {},
   "outputs": [],
   "source": [
    "# help(requests)"
   ]
  },
  {
   "cell_type": "code",
   "execution_count": 11,
   "id": "f60c1b4a",
   "metadata": {},
   "outputs": [
    {
     "name": "stdout",
     "output_type": "stream",
     "text": [
      "<Response [200]>\n",
      "<class 'requests.models.Response'>\n"
     ]
    }
   ],
   "source": [
    "resp = r.get('https://ergast.com/api/f1/2022/5/driverStandings.json')\n",
    "print(resp)\n",
    "print(type(resp))"
   ]
  },
  {
   "cell_type": "code",
   "execution_count": 12,
   "id": "7b63a204",
   "metadata": {},
   "outputs": [
    {
     "data": {
      "text/plain": [
       "True"
      ]
     },
     "execution_count": 12,
     "metadata": {},
     "output_type": "execute_result"
    }
   ],
   "source": [
    "#response object\n",
    "resp.ok"
   ]
  },
  {
   "cell_type": "code",
   "execution_count": 14,
   "id": "c6d1fdaf",
   "metadata": {},
   "outputs": [],
   "source": [
    "#check and make sure we got a successful response from the API\n",
    "if resp.ok:\n",
    "    data = resp.json()\n",
    "#     print(data)"
   ]
  },
  {
   "cell_type": "code",
   "execution_count": 4,
   "id": "ed4d3256",
   "metadata": {},
   "outputs": [],
   "source": [
    "# view the response as a JSON\n",
    "# see above"
   ]
  },
  {
   "cell_type": "code",
   "execution_count": null,
   "id": "92e6cd2c",
   "metadata": {},
   "outputs": [],
   "source": []
  },
  {
   "cell_type": "code",
   "execution_count": 17,
   "id": "f074dfcf",
   "metadata": {},
   "outputs": [
    {
     "name": "stdout",
     "output_type": "stream",
     "text": [
      "1 Charles Leclerc\n",
      "2 Max Verstappen\n",
      "3 Sergio Pérez\n",
      "4 George Russell\n",
      "5 Carlos Sainz\n",
      "6 Lewis Hamilton\n",
      "7 Lando Norris\n",
      "8 Valtteri Bottas\n",
      "9 Esteban Ocon\n",
      "10 Kevin Magnussen\n",
      "11 Daniel Ricciardo\n",
      "12 Yuki Tsunoda\n",
      "13 Pierre Gasly\n",
      "14 Sebastian Vettel\n",
      "15 Alexander Albon\n",
      "16 Fernando Alonso\n",
      "17 Lance Stroll\n",
      "18 Guanyu Zhou\n",
      "19 Mick Schumacher\n",
      "20 Nico Hülkenberg\n",
      "21 Nicholas Latifi\n"
     ]
    }
   ],
   "source": [
    "# We only want the Driver Standings\n",
    "standings = data['MRData']['StandingsTable']['StandingsLists'][0]['DriverStandings']\n",
    "for entry in standings:\n",
    "    name = f\"{entry['position']} {entry['Driver']['givenName']} {entry['Driver']['familyName']}\"\n",
    "    print(name)"
   ]
  },
  {
   "cell_type": "code",
   "execution_count": 40,
   "id": "be46a950",
   "metadata": {},
   "outputs": [
    {
     "data": {
      "text/plain": [
       "{'Max Verstappen': {'position': '1', 'team': 'Red Bull'},\n",
       " 'Lewis Hamilton': {'position': '2', 'team': 'Mercedes'},\n",
       " 'Valtteri Bottas': {'position': '3', 'team': 'Mercedes'},\n",
       " 'Sergio Pérez': {'position': '4', 'team': 'Red Bull'},\n",
       " 'Carlos Sainz': {'position': '5', 'team': 'Ferrari'},\n",
       " 'Lando Norris': {'position': '6', 'team': 'McLaren'},\n",
       " 'Charles Leclerc': {'position': '7', 'team': 'Ferrari'},\n",
       " 'Daniel Ricciardo': {'position': '8', 'team': 'McLaren'},\n",
       " 'Pierre Gasly': {'position': '9', 'team': 'AlphaTauri'},\n",
       " 'Fernando Alonso': {'position': '10', 'team': 'Alpine F1 Team'},\n",
       " 'Esteban Ocon': {'position': '11', 'team': 'Alpine F1 Team'},\n",
       " 'Sebastian Vettel': {'position': '12', 'team': 'Aston Martin'},\n",
       " 'Lance Stroll': {'position': '13', 'team': 'Aston Martin'},\n",
       " 'Yuki Tsunoda': {'position': '14', 'team': 'AlphaTauri'},\n",
       " 'George Russell': {'position': '15', 'team': 'Williams'},\n",
       " 'Kimi Räikkönen': {'position': '16', 'team': 'Alfa Romeo'},\n",
       " 'Nicholas Latifi': {'position': '17', 'team': 'Williams'},\n",
       " 'Antonio Giovinazzi': {'position': '18', 'team': 'Alfa Romeo'},\n",
       " 'Mick Schumacher': {'position': '19', 'team': 'Haas F1 Team'},\n",
       " 'Robert Kubica': {'position': '20', 'team': 'Alfa Romeo'},\n",
       " 'Nikita Mazepin': {'position': '21', 'team': 'Haas F1 Team'}}"
      ]
     },
     "execution_count": 40,
     "metadata": {},
     "output_type": "execute_result"
    }
   ],
   "source": [
    "def getRacerInfo(year, rnd):\n",
    "    url = f'https://ergast.com/api/f1/{year}/{rnd}/driverStandings.json'\n",
    "    response = r.get(url)\n",
    "    if response.ok:\n",
    "        my_dict = response.json()\n",
    "        racer_dict = {}\n",
    "        standings = my_dict['MRData']['StandingsTable']['StandingsLists'][0]['DriverStandings']\n",
    "        for entry in standings:\n",
    "            name = f\"{entry['Driver']['givenName']} {entry['Driver']['familyName']}\"\n",
    "            racer_dict[name] = {\n",
    "                'position': entry['position'],\n",
    "                'team': entry['Constructors'][0]['name']\n",
    "            }\n",
    "            \n",
    "        return racer_dict\n",
    "    return \"Error. Invalid year/match combo.\"\n",
    "\n",
    "getRacerInfo(2021, 'Last')"
   ]
  },
  {
   "cell_type": "code",
   "execution_count": null,
   "id": "3740c752",
   "metadata": {},
   "outputs": [],
   "source": [
    "name = input('What pokemon are you looking for?  ')\n",
    "url = f'https://pokeapi.co/api/v2/pokemon/{name}'\n",
    "r.get(url)\n"
   ]
  },
  {
   "cell_type": "markdown",
   "id": "6d546014",
   "metadata": {},
   "source": [
    "# <strong>Homework</strong>\n",
    "check out this Pokemon API https://pokeapi.co/\n",
    "Use the requests package to connect to this API and get and store data for 5 different pokemon.\n",
    "Get the pokemons: name, atleast one ability's name, base_experience, and the URL for its sprite (an image that shows up on screen) for the 'front_shiny', attack base_state, hp base_stat, defense base_stat"
   ]
  },
  {
   "cell_type": "code",
   "execution_count": null,
   "id": "5a9081e3",
   "metadata": {},
   "outputs": [],
   "source": [
    "import requests as req\n",
    "import webbrowser as web\n",
    "import alt_funcs\n",
    "\n",
    "def getPokemon():\n",
    "    name = input('What pokemon are you looking for?  ')\n",
    "    url = f'https://pokeapi.co/api/v2/pokemon/{name}'\n",
    "    resp = req.get(url)                 # requested URL for pokemon by name or number\n",
    "    if resp.ok:\n",
    "        web.open(url)                   # opens browser page to check data\n",
    "        dct = resp.json()\n",
    "        pokemon_dict = {dct['name']:    # forms dictionary to be returned as requested by instructor\n",
    "            {'ability': dct['abilities'][0]['ability']['name'],\n",
    "             'base_experience': dct['base_experience'],\n",
    "             'sprite_front_shiny': dct['sprites']['front_shiny'],\n",
    "             'base_stat_attack': dct['stats'][1]['base_stat'],\n",
    "             'base_stat_hp': dct['stats'][0]['base_stat'],\n",
    "             'base_stat_defense': dct['stats'][2]['base_stat'],\n",
    "            }}\n",
    "        print('Hey, Brandt, a browser page opened with all the data to check my work.')\n",
    "        return pokemon_dict\n",
    "    else:\n",
    "        print('I don\\'t know that Pokemon. Did you spell the name correctly?') \n",
    "        alt_funcs.check(input('If you would like to try again, hit \"Enter\" or type \"q\" to quit.  '))\n",
    "        getPokemon()\n",
    "\n",
    "print(getPokemon())  # input 5 names to get the requested answer for homework"
   ]
  }
 ],
 "metadata": {
  "kernelspec": {
   "display_name": "Python 3.9.13 64-bit",
   "language": "python",
   "name": "python3"
  },
  "language_info": {
   "codemirror_mode": {
    "name": "ipython",
    "version": 3
   },
   "file_extension": ".py",
   "mimetype": "text/x-python",
   "name": "python",
   "nbconvert_exporter": "python",
   "pygments_lexer": "ipython3",
   "version": "3.9.13"
  },
  "vscode": {
   "interpreter": {
    "hash": "6e0077779bb6db856296e311a684de6a8d1c17385af79566a867c3bd763c67d2"
   }
  }
 },
 "nbformat": 4,
 "nbformat_minor": 5
}
